{
 "cells": [
  {
   "cell_type": "markdown",
   "metadata": {},
   "source": [
    "# Bankrupy Prediction Project\n",
    "\n",
    "\n",
    "You will demonstrate your ability to solve a classification task.\n",
    "\n",
    "The notebook that you submit *should follow the Recipe for Machine Learning* in addition to answering the questions."
   ]
  },
  {
   "cell_type": "markdown",
   "metadata": {},
   "source": [
    "# Objectives\n",
    "\n",
    "For the student to demonstrate mastery on solving a classification problem and presenting\n",
    "the entire Recipe for Machine Learning process in a notebook.\n",
    "\n",
    "There will be little explicit direction for this task.\n",
    "\n",
    "It is meant to be analagous to a pre-interview task that a potential employer might assign\n",
    "to verify your skill"
   ]
  },
  {
   "cell_type": "markdown",
   "metadata": {},
   "source": [
    "# Submission guidelines\n",
    "\n",
    "**In addition** to showing your mastery, there is one task you must perform to make grading easier.\n",
    "\n",
    "- You will implement the body of a subroutine `MyModel`\n",
    "    - that takes as argument, the name of a CSV file containing the test set\n",
    "    - performs predictions on each example in the test set\n",
    "    - returns an array or predictions with a one-to-one correspondence with the examples in the test set\n",
    "    \n",
    "- You will call the subroutine, passing the name of the test set file that we will supply.\n",
    "\n",
    "In this way, we can get the results of your model by executing a single cell."
   ]
  },
  {
   "cell_type": "markdown",
   "metadata": {},
   "source": [
    "`MyModel` has one *required* parameter: `fileName`\n",
    "- you may add additional parameters as you need\n",
    "\n",
    "`MyModel` is where you will perform whatever pre-processing you require, for example\n",
    "- imputing missing values\n",
    "- transformations\n",
    "- whatever else you need\n"
   ]
  },
  {
   "cell_type": "markdown",
   "metadata": {},
   "source": [
    "Here is the cell **that must appear as the last cell in your notebook**"
   ]
  },
  {
   "cell_type": "code",
   "execution_count": 1,
   "metadata": {},
   "outputs": [
    {
     "name": "stdout",
     "output_type": "stream",
     "text": [
      "Test file:  ./data/midterm_project\\test.csv\n"
     ]
    }
   ],
   "source": [
    "TEST_PATH = \"./data\"\n",
    "\n",
    "import pandas as pd\n",
    "import os\n",
    "\n",
    "testFileName = os.path.join(TEST_PATH, \"test.csv\")\n",
    "\n",
    "def MyModel(fileName=None):\n",
    "    print(\"Test file: \", fileName)\n",
    "    \n",
    "    # It should create an array of predictions; we initialize it to the empty array for convenience\n",
    "    predictions = []\n",
    "    \n",
    "    # YOUR CODE GOES HERE\n",
    "    \n",
    "    \n",
    "    return predictions\n",
    "\n",
    "predicts = MyModel(fileName=testFileName)\n"
   ]
  },
  {
   "cell_type": "markdown",
   "metadata": {},
   "source": [
    "# The problem\n",
    "\n",
    "You are to predict whether a company will go bankrupt in the following year, based on financial attributes of the company.\n",
    "- Each row of data corresponds to a single company\n",
    "- There are 64 attributes, described in the section below\n",
    "- The last column (`Bankrupt`) is 1 if the company subsequently went bankrupt; 0 if it did not go bankrupt\n",
    "- The first column is a Company Identifier"
   ]
  },
  {
   "cell_type": "markdown",
   "metadata": {},
   "source": [
    "# The Data\n",
    "\n",
    "Here's the code to get the data."
   ]
  },
  {
   "cell_type": "code",
   "execution_count": 2,
   "metadata": {},
   "outputs": [],
   "source": [
    "import pandas as pd\n",
    "import os\n",
    "\n",
    "# Note the use of *relative path*; your assignments should all use relative rather than absolute paths\n",
    "DATA_PATH = \"./data\"\n",
    "\n",
    "data = pd.read_csv( os.path.join(DATA_PATH, \"bankruptcy_data.csv\") )\n"
   ]
  },
  {
   "cell_type": "markdown",
   "metadata": {},
   "source": [
    "## Description of attributes"
   ]
  },
  {
   "cell_type": "raw",
   "metadata": {},
   "source": [
    "Attribute Information:\n",
    "\n",
    "Id Company Identifier \n",
    "X1 net profit / total assets\n",
    "X2 total liabilities / total assets\n",
    "X3 working capital / total assets\n",
    "X4 current assets / short-term liabilities\n",
    "X5 [(cash + short-term securities + receivables - short-term liabilities) / (operating expenses - depreciation)] * 365\n",
    "X6 retained earnings / total assets\n",
    "X7 EBIT / total assets\n",
    "X8 book value of equity / total liabilities\n",
    "X9 sales / total assets\n",
    "X10 equity / total assets\n",
    "X11 (gross profit + extraordinary items + financial expenses) / total assets\n",
    "X12 gross profit / short-term liabilities\n",
    "X13 (gross profit + depreciation) / sales\n",
    "X14 (gross profit + interest) / total assets\n",
    "X15 (total liabilities * 365) / (gross profit + depreciation)\n",
    "X16 (gross profit + depreciation) / total liabilities\n",
    "X17 total assets / total liabilities\n",
    "X18 gross profit / total assets\n",
    "X19 gross profit / sales\n",
    "X20 (inventory * 365) / sales\n",
    "X21 sales (n) / sales (n-1)\n",
    "X22 profit on operating activities / total assets\n",
    "X23 net profit / sales\n",
    "X24 gross profit (in 3 years) / total assets\n",
    "X25 (equity - share capital) / total assets\n",
    "X26 (net profit + depreciation) / total liabilities\n",
    "X27 profit on operating activities / financial expenses\n",
    "X28 working capital / fixed assets\n",
    "X29 logarithm of total assets\n",
    "X30 (total liabilities - cash) / sales\n",
    "X31 (gross profit + interest) / sales\n",
    "X32 (current liabilities * 365) / cost of products sold\n",
    "X33 operating expenses / short-term liabilities\n",
    "X34 operating expenses / total liabilities\n",
    "X35 profit on sales / total assets\n",
    "X36 total sales / total assets\n",
    "X37 (current assets - inventories) / long-term liabilities\n",
    "X38 constant capital / total assets\n",
    "X39 profit on sales / sales\n",
    "X40 (current assets - inventory - receivables) / short-term liabilities\n",
    "X41 total liabilities / ((profit on operating activities + depreciation) * (12/365))\n",
    "X42 profit on operating activities / sales\n",
    "X43 rotation receivables + inventory turnover in days\n",
    "X44 (receivables * 365) / sales\n",
    "X45 net profit / inventory\n",
    "X46 (current assets - inventory) / short-term liabilities\n",
    "X47 (inventory * 365) / cost of products sold\n",
    "X48 EBITDA (profit on operating activities - depreciation) / total assets\n",
    "X49 EBITDA (profit on operating activities - depreciation) / sales\n",
    "X50 current assets / total liabilities\n",
    "X51 short-term liabilities / total assets\n",
    "X52 (short-term liabilities * 365) / cost of products sold)\n",
    "X53 equity / fixed assets\n",
    "X54 constant capital / fixed assets\n",
    "X55 working capital\n",
    "X56 (sales - cost of products sold) / sales\n",
    "X57 (current assets - inventory - short-term liabilities) / (sales - gross profit - depreciation)\n",
    "X58 total costs /total sales\n",
    "X59 long-term liabilities / equity\n",
    "X60 sales / inventory\n",
    "X61 sales / receivables\n",
    "X62 (short-term liabilities *365) / sales\n",
    "X63 sales / short-term liabilities\n",
    "X64 sales / fixed assets\n"
   ]
  },
  {
   "cell_type": "markdown",
   "metadata": {},
   "source": [
    "# Extra credit opportunities\n",
    "- Address the issue of: classes being imbalanced\n",
    "- Address the issue of: Different importance of each type of misclassification\n",
    "    - It is 5 times worse to misclassify a company that *does go bankrupt* than to misclassify a company that does not go bankrupt\n",
    "        - Suppose we invest in a company for which we predict it will not go bankrupt\n",
    "            - We incur substantial losses for a bad investment\n",
    "        - The loss from not investing in a company that we incorrectly classify as going bankrupt is small (opportunity cost)"
   ]
  },
  {
   "cell_type": "markdown",
   "metadata": {},
   "source": [
    "# Here is my solution"
   ]
  },
  {
   "cell_type": "code",
   "execution_count": 3,
   "metadata": {},
   "outputs": [],
   "source": [
    "import pandas as pd\n",
    "import os\n",
    "\n",
    "import numpy as np\n",
    "import matplotlib.pyplot as plt\n",
    "import seaborn as sns\n",
    "import numpy as np\n",
    "from scipy.stats import norm\n",
    "from sklearn.preprocessing import StandardScaler\n",
    "from scipy import stats\n",
    "import warnings\n",
    "from sklearn.metrics import make_scorer, accuracy_score\n",
    "from sklearn.model_selection import train_test_split\n",
    "from sklearn.model_selection import cross_val_score\n",
    "import xgboost as xgb\n",
    "from sklearn.metrics import classification_report\n",
    "from sklearn.pipeline import Pipeline\n",
    "from sklearn.model_selection import GridSearchCV\n",
    "from sklearn import linear_model, decomposition, datasets\n",
    "\n",
    "warnings.filterwarnings('ignore')\n",
    "%matplotlib inline\n",
    "\n",
    "# Note the use of *relative path*; your assignments should all use relative rather than absolute paths\n",
    "DATA_PATH = \"./data\"\n",
    "\n",
    "data= pd.read_csv( os.path.join(DATA_PATH, \"bankruptcy_data.csv\") )"
   ]
  },
  {
   "cell_type": "markdown",
   "metadata": {},
   "source": [
    "## A glance of the data set\n",
    "\n",
    "we can see that there are some '?' and some 0 value in the data set\n",
    "\n",
    "Now, we think that the 0 value is meaning nan value since all the factors are ratio of financial statement, it  is unlikely\n",
    "to be 0\n",
    "\n",
    "Here in the second step, we will count the nan value to prove it"
   ]
  },
  {
   "cell_type": "code",
   "execution_count": 4,
   "metadata": {},
   "outputs": [
    {
     "data": {
      "text/html": [
       "<div>\n",
       "<style scoped>\n",
       "    .dataframe tbody tr th:only-of-type {\n",
       "        vertical-align: middle;\n",
       "    }\n",
       "\n",
       "    .dataframe tbody tr th {\n",
       "        vertical-align: top;\n",
       "    }\n",
       "\n",
       "    .dataframe thead th {\n",
       "        text-align: right;\n",
       "    }\n",
       "</style>\n",
       "<table border=\"1\" class=\"dataframe\">\n",
       "  <thead>\n",
       "    <tr style=\"text-align: right;\">\n",
       "      <th></th>\n",
       "      <th>Id</th>\n",
       "      <th>X1</th>\n",
       "      <th>X2</th>\n",
       "      <th>X3</th>\n",
       "      <th>X4</th>\n",
       "      <th>X5</th>\n",
       "      <th>X6</th>\n",
       "      <th>X7</th>\n",
       "      <th>X8</th>\n",
       "      <th>X9</th>\n",
       "      <th>...</th>\n",
       "      <th>X56</th>\n",
       "      <th>X57</th>\n",
       "      <th>X58</th>\n",
       "      <th>X59</th>\n",
       "      <th>X60</th>\n",
       "      <th>X61</th>\n",
       "      <th>X62</th>\n",
       "      <th>X63</th>\n",
       "      <th>X64</th>\n",
       "      <th>Bankrupt</th>\n",
       "    </tr>\n",
       "  </thead>\n",
       "  <tbody>\n",
       "    <tr>\n",
       "      <th>1749</th>\n",
       "      <td>5060</td>\n",
       "      <td>0.058754</td>\n",
       "      <td>0.11628</td>\n",
       "      <td>0.88372</td>\n",
       "      <td>8.6</td>\n",
       "      <td>302.12</td>\n",
       "      <td>-0.038405</td>\n",
       "      <td>0.065615</td>\n",
       "      <td>7.6</td>\n",
       "      <td>1.1377</td>\n",
       "      <td>...</td>\n",
       "      <td>0.070335</td>\n",
       "      <td>0.066485</td>\n",
       "      <td>0.94262</td>\n",
       "      <td>0</td>\n",
       "      <td>?</td>\n",
       "      <td>252.72</td>\n",
       "      <td>37.306</td>\n",
       "      <td>9.7839</td>\n",
       "      <td>?</td>\n",
       "      <td>0</td>\n",
       "    </tr>\n",
       "    <tr>\n",
       "      <th>2053</th>\n",
       "      <td>4015</td>\n",
       "      <td>-0.046153</td>\n",
       "      <td>0.46383</td>\n",
       "      <td>-0.2648</td>\n",
       "      <td>0.39035</td>\n",
       "      <td>-232.18</td>\n",
       "      <td>0</td>\n",
       "      <td>-0.041039</td>\n",
       "      <td>1.156</td>\n",
       "      <td>0.57357</td>\n",
       "      <td>...</td>\n",
       "      <td>0.001678</td>\n",
       "      <td>-0.086079</td>\n",
       "      <td>1.07120</td>\n",
       "      <td>0.000377</td>\n",
       "      <td>11.917</td>\n",
       "      <td>4.8459</td>\n",
       "      <td>276.400</td>\n",
       "      <td>1.3205</td>\n",
       "      <td>0.69067</td>\n",
       "      <td>0</td>\n",
       "    </tr>\n",
       "    <tr>\n",
       "      <th>538</th>\n",
       "      <td>2792</td>\n",
       "      <td>0.24304</td>\n",
       "      <td>0.39918</td>\n",
       "      <td>0.39097</td>\n",
       "      <td>2.2253</td>\n",
       "      <td>-1.9911</td>\n",
       "      <td>0</td>\n",
       "      <td>0.24304</td>\n",
       "      <td>1.5052</td>\n",
       "      <td>1.4314</td>\n",
       "      <td>...</td>\n",
       "      <td>0.255220</td>\n",
       "      <td>0.40452</td>\n",
       "      <td>0.75516</td>\n",
       "      <td>0</td>\n",
       "      <td>3.6421</td>\n",
       "      <td>10.666</td>\n",
       "      <td>81.361</td>\n",
       "      <td>4.4862</td>\n",
       "      <td>4.9364</td>\n",
       "      <td>0</td>\n",
       "    </tr>\n",
       "    <tr>\n",
       "      <th>438</th>\n",
       "      <td>3252</td>\n",
       "      <td>0.29175</td>\n",
       "      <td>0</td>\n",
       "      <td>0.90259</td>\n",
       "      <td>?</td>\n",
       "      <td>37.089</td>\n",
       "      <td>-0.30642</td>\n",
       "      <td>0.36006</td>\n",
       "      <td>?</td>\n",
       "      <td>8.8885</td>\n",
       "      <td>...</td>\n",
       "      <td>0.004776</td>\n",
       "      <td>0.29175</td>\n",
       "      <td>0.96089</td>\n",
       "      <td>0</td>\n",
       "      <td>?</td>\n",
       "      <td>21.597</td>\n",
       "      <td>0.000</td>\n",
       "      <td>?</td>\n",
       "      <td>91.252</td>\n",
       "      <td>0</td>\n",
       "    </tr>\n",
       "    <tr>\n",
       "      <th>2685</th>\n",
       "      <td>3642</td>\n",
       "      <td>0.12366</td>\n",
       "      <td>0.10538</td>\n",
       "      <td>0.58182</td>\n",
       "      <td>6.5212</td>\n",
       "      <td>96.659</td>\n",
       "      <td>0.35072</td>\n",
       "      <td>0.1544</td>\n",
       "      <td>5.8605</td>\n",
       "      <td>1.0769</td>\n",
       "      <td>...</td>\n",
       "      <td>0.071375</td>\n",
       "      <td>0.20023</td>\n",
       "      <td>0.92862</td>\n",
       "      <td>0</td>\n",
       "      <td>30.12</td>\n",
       "      <td>12.81</td>\n",
       "      <td>20.083</td>\n",
       "      <td>18.174</td>\n",
       "      <td>6.1227</td>\n",
       "      <td>0</td>\n",
       "    </tr>\n",
       "    <tr>\n",
       "      <th>402</th>\n",
       "      <td>2674</td>\n",
       "      <td>-0.12909</td>\n",
       "      <td>0.82743</td>\n",
       "      <td>-0.27977</td>\n",
       "      <td>0.66086</td>\n",
       "      <td>-144.62</td>\n",
       "      <td>-0.45178</td>\n",
       "      <td>-0.14507</td>\n",
       "      <td>0.050358</td>\n",
       "      <td>0.91908</td>\n",
       "      <td>...</td>\n",
       "      <td>-0.088040</td>\n",
       "      <td>-3.0981</td>\n",
       "      <td>1.08800</td>\n",
       "      <td>0.059659</td>\n",
       "      <td>4.4371</td>\n",
       "      <td>6.4294</td>\n",
       "      <td>214.730</td>\n",
       "      <td>1.6998</td>\n",
       "      <td>3.0831</td>\n",
       "      <td>0</td>\n",
       "    </tr>\n",
       "    <tr>\n",
       "      <th>1027</th>\n",
       "      <td>18</td>\n",
       "      <td>0.081442</td>\n",
       "      <td>0.70127</td>\n",
       "      <td>0.38696</td>\n",
       "      <td>1.6555</td>\n",
       "      <td>38.305</td>\n",
       "      <td>0</td>\n",
       "      <td>0.1029</td>\n",
       "      <td>0.42599</td>\n",
       "      <td>1.9797</td>\n",
       "      <td>...</td>\n",
       "      <td>0.062960</td>\n",
       "      <td>0.27262</td>\n",
       "      <td>0.94841</td>\n",
       "      <td>0</td>\n",
       "      <td>10.464</td>\n",
       "      <td>5.9258</td>\n",
       "      <td>108.850</td>\n",
       "      <td>3.3534</td>\n",
       "      <td>87.295</td>\n",
       "      <td>0</td>\n",
       "    </tr>\n",
       "    <tr>\n",
       "      <th>308</th>\n",
       "      <td>4387</td>\n",
       "      <td>-0.017269</td>\n",
       "      <td>0.6195</td>\n",
       "      <td>-0.031699</td>\n",
       "      <td>0.89704</td>\n",
       "      <td>2497.1</td>\n",
       "      <td>-0.000208</td>\n",
       "      <td>-0.01744</td>\n",
       "      <td>0.6142</td>\n",
       "      <td>0.67486</td>\n",
       "      <td>...</td>\n",
       "      <td>0.278340</td>\n",
       "      <td>-0.045385</td>\n",
       "      <td>0.76063</td>\n",
       "      <td>0.55863</td>\n",
       "      <td>5.4345</td>\n",
       "      <td>5.2509</td>\n",
       "      <td>166.510</td>\n",
       "      <td>2.192</td>\n",
       "      <td>0.93235</td>\n",
       "      <td>0</td>\n",
       "    </tr>\n",
       "    <tr>\n",
       "      <th>2439</th>\n",
       "      <td>3818</td>\n",
       "      <td>0.24562</td>\n",
       "      <td>0.66097</td>\n",
       "      <td>0.39833</td>\n",
       "      <td>2.1664</td>\n",
       "      <td>74.703</td>\n",
       "      <td>0</td>\n",
       "      <td>0.24562</td>\n",
       "      <td>0.51293</td>\n",
       "      <td>1.4282</td>\n",
       "      <td>...</td>\n",
       "      <td>0.190400</td>\n",
       "      <td>0.72448</td>\n",
       "      <td>0.83413</td>\n",
       "      <td>0.83655</td>\n",
       "      <td>9.1092</td>\n",
       "      <td>10.787</td>\n",
       "      <td>87.275</td>\n",
       "      <td>4.1822</td>\n",
       "      <td>5.4897</td>\n",
       "      <td>0</td>\n",
       "    </tr>\n",
       "    <tr>\n",
       "      <th>149</th>\n",
       "      <td>727</td>\n",
       "      <td>0.017231</td>\n",
       "      <td>0.88978</td>\n",
       "      <td>-0.069604</td>\n",
       "      <td>0.92011</td>\n",
       "      <td>-89.359</td>\n",
       "      <td>0.041832</td>\n",
       "      <td>0.015158</td>\n",
       "      <td>0.11715</td>\n",
       "      <td>1.0696</td>\n",
       "      <td>...</td>\n",
       "      <td>0.065042</td>\n",
       "      <td>0.16531</td>\n",
       "      <td>0.93496</td>\n",
       "      <td>0.17785</td>\n",
       "      <td>5.5594</td>\n",
       "      <td>3.6538</td>\n",
       "      <td>196.560</td>\n",
       "      <td>1.8569</td>\n",
       "      <td>8.156</td>\n",
       "      <td>0</td>\n",
       "    </tr>\n",
       "  </tbody>\n",
       "</table>\n",
       "<p>10 rows × 66 columns</p>\n",
       "</div>"
      ],
      "text/plain": [
       "        Id         X1       X2         X3       X4       X5         X6  \\\n",
       "1749  5060   0.058754  0.11628    0.88372      8.6   302.12  -0.038405   \n",
       "2053  4015  -0.046153  0.46383    -0.2648  0.39035  -232.18          0   \n",
       "538   2792    0.24304  0.39918    0.39097   2.2253  -1.9911          0   \n",
       "438   3252    0.29175        0    0.90259        ?   37.089   -0.30642   \n",
       "2685  3642    0.12366  0.10538    0.58182   6.5212   96.659    0.35072   \n",
       "402   2674   -0.12909  0.82743   -0.27977  0.66086  -144.62   -0.45178   \n",
       "1027    18   0.081442  0.70127    0.38696   1.6555   38.305          0   \n",
       "308   4387  -0.017269   0.6195  -0.031699  0.89704   2497.1  -0.000208   \n",
       "2439  3818    0.24562  0.66097    0.39833   2.1664   74.703          0   \n",
       "149    727   0.017231  0.88978  -0.069604  0.92011  -89.359   0.041832   \n",
       "\n",
       "             X7        X8       X9  ...       X56        X57      X58  \\\n",
       "1749   0.065615       7.6   1.1377  ...  0.070335   0.066485  0.94262   \n",
       "2053  -0.041039     1.156  0.57357  ...  0.001678  -0.086079  1.07120   \n",
       "538     0.24304    1.5052   1.4314  ...  0.255220    0.40452  0.75516   \n",
       "438     0.36006         ?   8.8885  ...  0.004776    0.29175  0.96089   \n",
       "2685     0.1544    5.8605   1.0769  ...  0.071375    0.20023  0.92862   \n",
       "402    -0.14507  0.050358  0.91908  ... -0.088040    -3.0981  1.08800   \n",
       "1027     0.1029   0.42599   1.9797  ...  0.062960    0.27262  0.94841   \n",
       "308    -0.01744    0.6142  0.67486  ...  0.278340  -0.045385  0.76063   \n",
       "2439    0.24562   0.51293   1.4282  ...  0.190400    0.72448  0.83413   \n",
       "149    0.015158   0.11715   1.0696  ...  0.065042    0.16531  0.93496   \n",
       "\n",
       "           X59     X60     X61      X62     X63      X64  Bankrupt  \n",
       "1749         0       ?  252.72   37.306  9.7839        ?         0  \n",
       "2053  0.000377  11.917  4.8459  276.400  1.3205  0.69067         0  \n",
       "538          0  3.6421  10.666   81.361  4.4862   4.9364         0  \n",
       "438          0       ?  21.597    0.000       ?   91.252         0  \n",
       "2685         0   30.12   12.81   20.083  18.174   6.1227         0  \n",
       "402   0.059659  4.4371  6.4294  214.730  1.6998   3.0831         0  \n",
       "1027         0  10.464  5.9258  108.850  3.3534   87.295         0  \n",
       "308    0.55863  5.4345  5.2509  166.510   2.192  0.93235         0  \n",
       "2439   0.83655  9.1092  10.787   87.275  4.1822   5.4897         0  \n",
       "149    0.17785  5.5594  3.6538  196.560  1.8569    8.156         0  \n",
       "\n",
       "[10 rows x 66 columns]"
      ]
     },
     "execution_count": 4,
     "metadata": {},
     "output_type": "execute_result"
    }
   ],
   "source": [
    "data.sample(10, random_state=42)"
   ]
  },
  {
   "cell_type": "code",
   "execution_count": 5,
   "metadata": {},
   "outputs": [
    {
     "name": "stdout",
     "output_type": "stream",
     "text": [
      "Some of Null Values in all colums =  0\n"
     ]
    }
   ],
   "source": [
    "# We see that there are some value 0 and we guess that the missing value is presented by 0\n",
    "# Then we check if there are any null value\n",
    "\n",
    "print('Some of Null Values in all colums = ', data.isna().sum().sum())"
   ]
  },
  {
   "cell_type": "markdown",
   "metadata": {},
   "source": [
    "We now see that the data 0 is indeed a sample of nan since there is not any nan value\n",
    "\n",
    "Then, we will look at the data set more deeply"
   ]
  },
  {
   "cell_type": "code",
   "execution_count": 6,
   "metadata": {},
   "outputs": [
    {
     "name": "stdout",
     "output_type": "stream",
     "text": [
      "<class 'pandas.core.frame.DataFrame'>\n",
      "RangeIndex: 4076 entries, 0 to 4075\n",
      "Data columns (total 66 columns):\n",
      "Id          4076 non-null int64\n",
      "X1          4076 non-null object\n",
      "X2          4076 non-null object\n",
      "X3          4076 non-null object\n",
      "X4          4076 non-null object\n",
      "X5          4076 non-null object\n",
      "X6          4076 non-null object\n",
      "X7          4076 non-null object\n",
      "X8          4076 non-null object\n",
      "X9          4076 non-null object\n",
      "X10         4076 non-null object\n",
      "X11         4076 non-null object\n",
      "X12         4076 non-null object\n",
      "X13         4076 non-null float64\n",
      "X14         4076 non-null object\n",
      "X15         4076 non-null object\n",
      "X16         4076 non-null object\n",
      "X17         4076 non-null object\n",
      "X18         4076 non-null object\n",
      "X19         4076 non-null float64\n",
      "X20         4076 non-null float64\n",
      "X21         4076 non-null object\n",
      "X22         4076 non-null object\n",
      "X23         4076 non-null float64\n",
      "X24         4076 non-null object\n",
      "X25         4076 non-null object\n",
      "X26         4076 non-null object\n",
      "X27         4076 non-null object\n",
      "X28         4076 non-null object\n",
      "X29         4076 non-null object\n",
      "X30         4076 non-null float64\n",
      "X31         4076 non-null float64\n",
      "X32         4076 non-null object\n",
      "X33         4076 non-null object\n",
      "X34         4076 non-null object\n",
      "X35         4076 non-null object\n",
      "X36         4076 non-null object\n",
      "X37         4076 non-null object\n",
      "X38         4076 non-null object\n",
      "X39         4076 non-null float64\n",
      "X40         4076 non-null object\n",
      "X41         4076 non-null object\n",
      "X42         4076 non-null float64\n",
      "X43         4076 non-null float64\n",
      "X44         4076 non-null float64\n",
      "X45         4076 non-null object\n",
      "X46         4076 non-null object\n",
      "X47         4076 non-null object\n",
      "X48         4076 non-null object\n",
      "X49         4076 non-null float64\n",
      "X50         4076 non-null object\n",
      "X51         4076 non-null object\n",
      "X52         4076 non-null object\n",
      "X53         4076 non-null object\n",
      "X54         4076 non-null object\n",
      "X55         4076 non-null float64\n",
      "X56         4076 non-null float64\n",
      "X57         4076 non-null object\n",
      "X58         4076 non-null float64\n",
      "X59         4076 non-null object\n",
      "X60         4076 non-null object\n",
      "X61         4076 non-null object\n",
      "X62         4076 non-null float64\n",
      "X63         4076 non-null object\n",
      "X64         4076 non-null object\n",
      "Bankrupt    4076 non-null int64\n",
      "dtypes: float64(15), int64(2), object(49)\n",
      "memory usage: 2.1+ MB\n"
     ]
    }
   ],
   "source": [
    "data.info()"
   ]
  },
  {
   "cell_type": "markdown",
   "metadata": {},
   "source": [
    "## Checking the data again\n",
    "\n",
    "We now find that the data is obj and we need to change it into number and deal with the '?'"
   ]
  },
  {
   "cell_type": "code",
   "execution_count": 7,
   "metadata": {},
   "outputs": [],
   "source": [
    "# Clean data: to show missing data as NaN\n",
    "def CleanOne(data):\n",
    "    data = data.apply(pd.to_numeric, errors='coerce')\n",
    "    cols = [i for i in data.columns if i not in ['Bankrupt', 'Id']]\n",
    "    data[cols] = data[cols].replace(0, np.nan)\n",
    "    #print('null values:\\n', data.isna().sum())\n",
    "    return data\n",
    "data = CleanOne(data)"
   ]
  },
  {
   "cell_type": "code",
   "execution_count": 8,
   "metadata": {},
   "outputs": [
    {
     "name": "stdout",
     "output_type": "stream",
     "text": [
      "                Id           X1           X2           X3           X4  \\\n",
      "count  4076.000000  4046.000000  4058.000000  4071.000000  4057.000000   \n",
      "mean   3022.267910    -0.091505     0.574095     0.167326     4.300340   \n",
      "std    1742.080279     7.323650     1.551269     1.455501    26.970635   \n",
      "min       0.000000  -463.890000     0.000342   -72.067000    -0.403110   \n",
      "25%    1500.000000     0.003937     0.254848     0.037722     1.079000   \n",
      "50%    2998.000000     0.048327     0.456560     0.218890     1.640100   \n",
      "75%    4542.000000     0.117600     0.669898     0.420430     2.985900   \n",
      "max    5909.000000     5.530000    72.416000    28.336000   788.090000   \n",
      "\n",
      "                 X5           X6           X7           X8           X9  ...  \\\n",
      "count  4.067000e+03  2501.000000  4067.000000  4058.000000  4075.000000  ...   \n",
      "mean  -2.653959e+02    -0.291890    -0.077971     5.690827     1.603746  ...   \n",
      "std    1.695217e+04    10.804478     7.305424    66.706935     1.583191  ...   \n",
      "min   -1.076400e+06  -463.890000  -463.890000    -0.986570    -3.496000  ...   \n",
      "25%   -4.696550e+01    -0.080965     0.004626     0.467810     1.014200  ...   \n",
      "50%   -7.903000e-03     0.043565     0.057393     1.135500     1.141600  ...   \n",
      "75%    4.908400e+01     0.213890     0.136595     2.856050     1.805800  ...   \n",
      "max    3.425900e+04   203.150000     5.530000  2922.000000    37.807000  ...   \n",
      "\n",
      "               X56          X57          X58          X59           X60  \\\n",
      "count  4076.000000  4000.000000  4076.000000  2300.000000   3878.000000   \n",
      "mean      0.050647    -0.323162     0.962425     0.351210     44.770937   \n",
      "std       0.824277    21.070049     0.956931     6.512323    390.023947   \n",
      "min     -46.788000 -1236.300000    -0.164390  -184.980000    -12.440000   \n",
      "25%       0.010691     0.019600     0.874343     0.029810      5.223725   \n",
      "50%       0.053946     0.115815     0.950110     0.151480      8.824100   \n",
      "75%       0.127420     0.242932     0.990855     0.498643     16.947750   \n",
      "max       1.651000    87.981000    47.788000    83.095000  17739.000000   \n",
      "\n",
      "               X61            X62          X63            X64     Bankrupt  \n",
      "count  4065.000000    4058.000000  4058.000000    4010.000000  4076.000000  \n",
      "mean     10.676904     304.184532     8.171531      75.135182     0.100589  \n",
      "std      36.006887    7506.436596    32.182400    2552.728737     0.300820  \n",
      "min      -0.092493    -236.530000    -1.543200      -3.726500     0.000000  \n",
      "25%       4.257900      45.973000     3.013850       2.154625     0.000000  \n",
      "50%       6.131200      75.677500     4.819350       4.011950     0.000000  \n",
      "75%       9.433200     121.080000     7.925900       9.500950     0.000000  \n",
      "max    1266.800000  451380.000000  1526.800000  158180.000000     1.000000  \n",
      "\n",
      "[8 rows x 66 columns]\n",
      "(4076, 66)\n"
     ]
    }
   ],
   "source": [
    "print(data.describe())\n",
    "print(data.shape)"
   ]
  },
  {
   "cell_type": "markdown",
   "metadata": {},
   "source": [
    "It is reasonable to check if the data is banlance or not since not so many company bankrupt\n",
    "\n",
    "And we will find that it is very imbanlance"
   ]
  },
  {
   "cell_type": "code",
   "execution_count": 9,
   "metadata": {},
   "outputs": [
    {
     "name": "stdout",
     "output_type": "stream",
     "text": [
      "The number of default is 410 and the percentage of default is 0.10058881256133465\n"
     ]
    }
   ],
   "source": [
    "num_bankrupt = data['Bankrupt'].sum()\n",
    "percantage_bankrupt = num_bankrupt / data.shape[0]\n",
    "print(\"The number of default is {0} and the percentage of default is {1}\".format(num_bankrupt, percantage_bankrupt))"
   ]
  },
  {
   "cell_type": "code",
   "execution_count": 10,
   "metadata": {},
   "outputs": [
    {
     "data": {
      "image/png": "[encoded data removed]",
      "text/plain": [
       "<Figure size 1296x1080 with 2 Axes>"
      ]
     },
     "metadata": {
      "needs_background": "light"
     },
     "output_type": "display_data"
    }
   ],
   "source": [
    "#correlation matrix\n",
    "corrmat = data.corr()\n",
    "f, ax = plt.subplots(figsize=(18, 15))\n",
    "sns.heatmap(corrmat, vmax=.8, square=True,cmap=\"YlGnBu\");"
   ]
  },
  {
   "cell_type": "markdown",
   "metadata": {},
   "source": [
    "From the heatmap, which describe the correlation of different var in the training set, we find that some of the variables are highly correlated with each other such as (X6, X7), (X33, X34), (X43, X44), (X53, X54)\n",
    "\n",
    "Moreover, when we look at the Bankrupt, we find that none of the variable have strong correlate with Bankrupt"
   ]
  },
  {
   "cell_type": "code",
   "execution_count": 11,
   "metadata": {},
   "outputs": [
    {
     "data": {
      "image/png": "[encoded data removed]",
      "text/plain": [
       "<Figure size 432x288 with 2 Axes>"
      ]
     },
     "metadata": {},
     "output_type": "display_data"
    }
   ],
   "source": [
    "#saleprice correlation matrix\n",
    "k = 10 #number of variables for heatmap\n",
    "cols = corrmat.nlargest(k, 'Bankrupt')['Bankrupt'].index\n",
    "cm = np.corrcoef(data[cols].values.T)\n",
    "sns.set(font_scale=1.25)\n",
    "hm = sns.heatmap(cm, cbar=True, annot=True, square=True, fmt='.2f', annot_kws={'size': 10}, yticklabels=cols.values, xticklabels=cols.values)\n",
    "plt.show()"
   ]
  },
  {
   "cell_type": "markdown",
   "metadata": {},
   "source": [
    "We can find from the heat map and the corr matrix that not so many factor have a strong relationship with bankrupt directly"
   ]
  },
  {
   "cell_type": "markdown",
   "metadata": {},
   "source": [
    "## Clean Data"
   ]
  },
  {
   "cell_type": "code",
   "execution_count": 12,
   "metadata": {},
   "outputs": [
    {
     "data": {
      "text/html": [
       "<div>\n",
       "<style scoped>\n",
       "    .dataframe tbody tr th:only-of-type {\n",
       "        vertical-align: middle;\n",
       "    }\n",
       "\n",
       "    .dataframe tbody tr th {\n",
       "        vertical-align: top;\n",
       "    }\n",
       "\n",
       "    .dataframe thead th {\n",
       "        text-align: right;\n",
       "    }\n",
       "</style>\n",
       "<table border=\"1\" class=\"dataframe\">\n",
       "  <thead>\n",
       "    <tr style=\"text-align: right;\">\n",
       "      <th></th>\n",
       "      <th>Total</th>\n",
       "      <th>Percent</th>\n",
       "    </tr>\n",
       "  </thead>\n",
       "  <tbody>\n",
       "    <tr>\n",
       "      <th>X37</th>\n",
       "      <td>1776</td>\n",
       "      <td>0.435721</td>\n",
       "    </tr>\n",
       "    <tr>\n",
       "      <th>X59</th>\n",
       "      <td>1776</td>\n",
       "      <td>0.435721</td>\n",
       "    </tr>\n",
       "    <tr>\n",
       "      <th>X6</th>\n",
       "      <td>1575</td>\n",
       "      <td>0.386408</td>\n",
       "    </tr>\n",
       "    <tr>\n",
       "      <th>X27</th>\n",
       "      <td>585</td>\n",
       "      <td>0.143523</td>\n",
       "    </tr>\n",
       "    <tr>\n",
       "      <th>X22</th>\n",
       "      <td>387</td>\n",
       "      <td>0.094946</td>\n",
       "    </tr>\n",
       "    <tr>\n",
       "      <th>X42</th>\n",
       "      <td>384</td>\n",
       "      <td>0.094210</td>\n",
       "    </tr>\n",
       "    <tr>\n",
       "      <th>X45</th>\n",
       "      <td>225</td>\n",
       "      <td>0.055201</td>\n",
       "    </tr>\n",
       "    <tr>\n",
       "      <th>X47</th>\n",
       "      <td>219</td>\n",
       "      <td>0.053729</td>\n",
       "    </tr>\n",
       "    <tr>\n",
       "      <th>X20</th>\n",
       "      <td>198</td>\n",
       "      <td>0.048577</td>\n",
       "    </tr>\n",
       "    <tr>\n",
       "      <th>X60</th>\n",
       "      <td>198</td>\n",
       "      <td>0.048577</td>\n",
       "    </tr>\n",
       "    <tr>\n",
       "      <th>X21</th>\n",
       "      <td>103</td>\n",
       "      <td>0.025270</td>\n",
       "    </tr>\n",
       "    <tr>\n",
       "      <th>X24</th>\n",
       "      <td>95</td>\n",
       "      <td>0.023307</td>\n",
       "    </tr>\n",
       "    <tr>\n",
       "      <th>X57</th>\n",
       "      <td>76</td>\n",
       "      <td>0.018646</td>\n",
       "    </tr>\n",
       "    <tr>\n",
       "      <th>X48</th>\n",
       "      <td>76</td>\n",
       "      <td>0.018646</td>\n",
       "    </tr>\n",
       "    <tr>\n",
       "      <th>X49</th>\n",
       "      <td>72</td>\n",
       "      <td>0.017664</td>\n",
       "    </tr>\n",
       "    <tr>\n",
       "      <th>X41</th>\n",
       "      <td>71</td>\n",
       "      <td>0.017419</td>\n",
       "    </tr>\n",
       "    <tr>\n",
       "      <th>X28</th>\n",
       "      <td>67</td>\n",
       "      <td>0.016438</td>\n",
       "    </tr>\n",
       "    <tr>\n",
       "      <th>X54</th>\n",
       "      <td>66</td>\n",
       "      <td>0.016192</td>\n",
       "    </tr>\n",
       "    <tr>\n",
       "      <th>X64</th>\n",
       "      <td>66</td>\n",
       "      <td>0.016192</td>\n",
       "    </tr>\n",
       "    <tr>\n",
       "      <th>X53</th>\n",
       "      <td>66</td>\n",
       "      <td>0.016192</td>\n",
       "    </tr>\n",
       "    <tr>\n",
       "      <th>X32</th>\n",
       "      <td>47</td>\n",
       "      <td>0.011531</td>\n",
       "    </tr>\n",
       "    <tr>\n",
       "      <th>X33</th>\n",
       "      <td>41</td>\n",
       "      <td>0.010059</td>\n",
       "    </tr>\n",
       "    <tr>\n",
       "      <th>X34</th>\n",
       "      <td>41</td>\n",
       "      <td>0.010059</td>\n",
       "    </tr>\n",
       "    <tr>\n",
       "      <th>X52</th>\n",
       "      <td>41</td>\n",
       "      <td>0.010059</td>\n",
       "    </tr>\n",
       "    <tr>\n",
       "      <th>X23</th>\n",
       "      <td>30</td>\n",
       "      <td>0.007360</td>\n",
       "    </tr>\n",
       "    <tr>\n",
       "      <th>X1</th>\n",
       "      <td>30</td>\n",
       "      <td>0.007360</td>\n",
       "    </tr>\n",
       "    <tr>\n",
       "      <th>X35</th>\n",
       "      <td>25</td>\n",
       "      <td>0.006133</td>\n",
       "    </tr>\n",
       "    <tr>\n",
       "      <th>X39</th>\n",
       "      <td>23</td>\n",
       "      <td>0.005643</td>\n",
       "    </tr>\n",
       "    <tr>\n",
       "      <th>X40</th>\n",
       "      <td>21</td>\n",
       "      <td>0.005152</td>\n",
       "    </tr>\n",
       "    <tr>\n",
       "      <th>X26</th>\n",
       "      <td>20</td>\n",
       "      <td>0.004907</td>\n",
       "    </tr>\n",
       "    <tr>\n",
       "      <th>...</th>\n",
       "      <td>...</td>\n",
       "      <td>...</td>\n",
       "    </tr>\n",
       "    <tr>\n",
       "      <th>X8</th>\n",
       "      <td>18</td>\n",
       "      <td>0.004416</td>\n",
       "    </tr>\n",
       "    <tr>\n",
       "      <th>X2</th>\n",
       "      <td>18</td>\n",
       "      <td>0.004416</td>\n",
       "    </tr>\n",
       "    <tr>\n",
       "      <th>X46</th>\n",
       "      <td>18</td>\n",
       "      <td>0.004416</td>\n",
       "    </tr>\n",
       "    <tr>\n",
       "      <th>X62</th>\n",
       "      <td>18</td>\n",
       "      <td>0.004416</td>\n",
       "    </tr>\n",
       "    <tr>\n",
       "      <th>X15</th>\n",
       "      <td>17</td>\n",
       "      <td>0.004171</td>\n",
       "    </tr>\n",
       "    <tr>\n",
       "      <th>X16</th>\n",
       "      <td>17</td>\n",
       "      <td>0.004171</td>\n",
       "    </tr>\n",
       "    <tr>\n",
       "      <th>X44</th>\n",
       "      <td>11</td>\n",
       "      <td>0.002699</td>\n",
       "    </tr>\n",
       "    <tr>\n",
       "      <th>X61</th>\n",
       "      <td>11</td>\n",
       "      <td>0.002699</td>\n",
       "    </tr>\n",
       "    <tr>\n",
       "      <th>X5</th>\n",
       "      <td>9</td>\n",
       "      <td>0.002208</td>\n",
       "    </tr>\n",
       "    <tr>\n",
       "      <th>X7</th>\n",
       "      <td>9</td>\n",
       "      <td>0.002208</td>\n",
       "    </tr>\n",
       "    <tr>\n",
       "      <th>X11</th>\n",
       "      <td>9</td>\n",
       "      <td>0.002208</td>\n",
       "    </tr>\n",
       "    <tr>\n",
       "      <th>X14</th>\n",
       "      <td>9</td>\n",
       "      <td>0.002208</td>\n",
       "    </tr>\n",
       "    <tr>\n",
       "      <th>X18</th>\n",
       "      <td>9</td>\n",
       "      <td>0.002208</td>\n",
       "    </tr>\n",
       "    <tr>\n",
       "      <th>X31</th>\n",
       "      <td>8</td>\n",
       "      <td>0.001963</td>\n",
       "    </tr>\n",
       "    <tr>\n",
       "      <th>X19</th>\n",
       "      <td>8</td>\n",
       "      <td>0.001963</td>\n",
       "    </tr>\n",
       "    <tr>\n",
       "      <th>X43</th>\n",
       "      <td>8</td>\n",
       "      <td>0.001963</td>\n",
       "    </tr>\n",
       "    <tr>\n",
       "      <th>X13</th>\n",
       "      <td>7</td>\n",
       "      <td>0.001717</td>\n",
       "    </tr>\n",
       "    <tr>\n",
       "      <th>X25</th>\n",
       "      <td>5</td>\n",
       "      <td>0.001227</td>\n",
       "    </tr>\n",
       "    <tr>\n",
       "      <th>X3</th>\n",
       "      <td>5</td>\n",
       "      <td>0.001227</td>\n",
       "    </tr>\n",
       "    <tr>\n",
       "      <th>X38</th>\n",
       "      <td>4</td>\n",
       "      <td>0.000981</td>\n",
       "    </tr>\n",
       "    <tr>\n",
       "      <th>X36</th>\n",
       "      <td>4</td>\n",
       "      <td>0.000981</td>\n",
       "    </tr>\n",
       "    <tr>\n",
       "      <th>X10</th>\n",
       "      <td>4</td>\n",
       "      <td>0.000981</td>\n",
       "    </tr>\n",
       "    <tr>\n",
       "      <th>X29</th>\n",
       "      <td>4</td>\n",
       "      <td>0.000981</td>\n",
       "    </tr>\n",
       "    <tr>\n",
       "      <th>X55</th>\n",
       "      <td>2</td>\n",
       "      <td>0.000491</td>\n",
       "    </tr>\n",
       "    <tr>\n",
       "      <th>X30</th>\n",
       "      <td>2</td>\n",
       "      <td>0.000491</td>\n",
       "    </tr>\n",
       "    <tr>\n",
       "      <th>X9</th>\n",
       "      <td>1</td>\n",
       "      <td>0.000245</td>\n",
       "    </tr>\n",
       "    <tr>\n",
       "      <th>Bankrupt</th>\n",
       "      <td>0</td>\n",
       "      <td>0.000000</td>\n",
       "    </tr>\n",
       "    <tr>\n",
       "      <th>X56</th>\n",
       "      <td>0</td>\n",
       "      <td>0.000000</td>\n",
       "    </tr>\n",
       "    <tr>\n",
       "      <th>X58</th>\n",
       "      <td>0</td>\n",
       "      <td>0.000000</td>\n",
       "    </tr>\n",
       "    <tr>\n",
       "      <th>Id</th>\n",
       "      <td>0</td>\n",
       "      <td>0.000000</td>\n",
       "    </tr>\n",
       "  </tbody>\n",
       "</table>\n",
       "<p>66 rows × 2 columns</p>\n",
       "</div>"
      ],
      "text/plain": [
       "          Total   Percent\n",
       "X37        1776  0.435721\n",
       "X59        1776  0.435721\n",
       "X6         1575  0.386408\n",
       "X27         585  0.143523\n",
       "X22         387  0.094946\n",
       "X42         384  0.094210\n",
       "X45         225  0.055201\n",
       "X47         219  0.053729\n",
       "X20         198  0.048577\n",
       "X60         198  0.048577\n",
       "X21         103  0.025270\n",
       "X24          95  0.023307\n",
       "X57          76  0.018646\n",
       "X48          76  0.018646\n",
       "X49          72  0.017664\n",
       "X41          71  0.017419\n",
       "X28          67  0.016438\n",
       "X54          66  0.016192\n",
       "X64          66  0.016192\n",
       "X53          66  0.016192\n",
       "X32          47  0.011531\n",
       "X33          41  0.010059\n",
       "X34          41  0.010059\n",
       "X52          41  0.010059\n",
       "X23          30  0.007360\n",
       "X1           30  0.007360\n",
       "X35          25  0.006133\n",
       "X39          23  0.005643\n",
       "X40          21  0.005152\n",
       "X26          20  0.004907\n",
       "...         ...       ...\n",
       "X8           18  0.004416\n",
       "X2           18  0.004416\n",
       "X46          18  0.004416\n",
       "X62          18  0.004416\n",
       "X15          17  0.004171\n",
       "X16          17  0.004171\n",
       "X44          11  0.002699\n",
       "X61          11  0.002699\n",
       "X5            9  0.002208\n",
       "X7            9  0.002208\n",
       "X11           9  0.002208\n",
       "X14           9  0.002208\n",
       "X18           9  0.002208\n",
       "X31           8  0.001963\n",
       "X19           8  0.001963\n",
       "X43           8  0.001963\n",
       "X13           7  0.001717\n",
       "X25           5  0.001227\n",
       "X3            5  0.001227\n",
       "X38           4  0.000981\n",
       "X36           4  0.000981\n",
       "X10           4  0.000981\n",
       "X29           4  0.000981\n",
       "X55           2  0.000491\n",
       "X30           2  0.000491\n",
       "X9            1  0.000245\n",
       "Bankrupt      0  0.000000\n",
       "X56           0  0.000000\n",
       "X58           0  0.000000\n",
       "Id            0  0.000000\n",
       "\n",
       "[66 rows x 2 columns]"
      ]
     },
     "execution_count": 12,
     "metadata": {},
     "output_type": "execute_result"
    }
   ],
   "source": [
    "total = data.isnull().sum().sort_values(ascending=False)\n",
    "percent = (data.isnull().sum()/data.isnull().count()).sort_values(ascending=False)\n",
    "missing_data = pd.concat([total, percent], axis=1, keys=['Total', 'Percent'])\n",
    "missing_data"
   ]
  },
  {
   "cell_type": "markdown",
   "metadata": {},
   "source": [
    "We see that X37 X59 X6 X27 have more than 10% missing value so that we need to delete them"
   ]
  },
  {
   "cell_type": "code",
   "execution_count": 13,
   "metadata": {},
   "outputs": [
    {
     "data": {
      "text/plain": [
       "Index(['X37', 'X59', 'X6', 'X27'], dtype='object')"
      ]
     },
     "execution_count": 13,
     "metadata": {},
     "output_type": "execute_result"
    }
   ],
   "source": [
    "missing_data[missing_data['Percent'] > 0.1].index"
   ]
  },
  {
   "cell_type": "code",
   "execution_count": 14,
   "metadata": {},
   "outputs": [],
   "source": [
    "drop_list = ['X37', 'X59', 'X6', 'X27']"
   ]
  },
  {
   "cell_type": "code",
   "execution_count": 15,
   "metadata": {},
   "outputs": [],
   "source": [
    "#Clean data: delete data that have so much nan\n",
    "#Para threshold: the precentage of nan in the column it should be delete\n",
    "from sklearn.base import BaseEstimator, TransformerMixin\n",
    "\n",
    "class MissingDataDeler(BaseEstimator, TransformerMixin):\n",
    "    def __init__(self, threshold = 0.05):\n",
    "        \"\"\"\n",
    "        :threshold -> int\n",
    "        \"\"\"\n",
    "        self.threshold = threshold\n",
    "    def fit(self, X, y=None):\n",
    "        return self\n",
    "    def transform(self, X, y=None):\n",
    "        data_missing = X.drop(drop_list, axis=1)\n",
    "        return data_missing"
   ]
  },
  {
   "cell_type": "code",
   "execution_count": 16,
   "metadata": {},
   "outputs": [],
   "source": [
    "# Fill the missing data with different ways\n",
    "# \n",
    "from sklearn.base import BaseEstimator, TransformerMixin\n",
    "\n",
    "class MissingDataFillerOne(BaseEstimator, TransformerMixin):\n",
    "    def __init__(self, fill_way = 'uniform'):\n",
    "        \"\"\"\n",
    "        : fill_way -> str\n",
    "        it could be median, mean, uniform, normal\n",
    "        \"\"\"\n",
    "        self.fill_way = fill_way\n",
    "        \n",
    "    def fit(self, X, y=None):\n",
    "        return self\n",
    "    def transform(self, X, y=None):\n",
    "        for index in X.columns:\n",
    "            column_mean = X[index].mean()\n",
    "            column_std = X[index].std()\n",
    "            column_median = X[index].median()\n",
    "            column_numna = X[index].isnull().sum()\n",
    "            if self.fill_way == 'mean':\n",
    "                column_fill = np.full(column_numna, column_mean)\n",
    "            elif self.fill_way == 'median':\n",
    "                column_fill = np.full(column_numna, column_median)\n",
    "            elif self.fill_way == 'uniform':\n",
    "                column_fill = np.random.uniform(column_mean - column_std, column_mean + column_std , size=column_numna)\n",
    "            elif self.fill_way == 'normal':\n",
    "                column_fill = np.random.normal(column_mean, column_std, size=column_numna)\n",
    "            X.loc[X[index].isnull(),index] = column_fill\n",
    "        return X\n"
   ]
  },
  {
   "cell_type": "markdown",
   "metadata": {},
   "source": [
    "## Feature Engineering"
   ]
  },
  {
   "cell_type": "code",
   "execution_count": 17,
   "metadata": {},
   "outputs": [],
   "source": [
    "# Get the train and test data\n",
    "x_all = data.drop(['Id','Bankrupt'], axis=1)\n",
    "y_all = data['Bankrupt'].copy()\n",
    "num_test = 0.2\n",
    "X_train, X_test, y_train, y_test = train_test_split(x_all, y_all,test_size=num_test, random_state=42)"
   ]
  },
  {
   "cell_type": "code",
   "execution_count": 18,
   "metadata": {},
   "outputs": [],
   "source": [
    "# oversampling\n",
    "from imblearn.over_sampling import SMOTE, ADASYN \n",
    "smt = SMOTE()"
   ]
  },
  {
   "cell_type": "code",
   "execution_count": 19,
   "metadata": {},
   "outputs": [],
   "source": [
    "# Scaling: standardization\n",
    "from sklearn.preprocessing import StandardScaler\n",
    "std_scaler = StandardScaler()"
   ]
  },
  {
   "cell_type": "markdown",
   "metadata": {},
   "source": [
    "We find that the pipeline could  not support oversample by SMOTE and it would be a little bit confuse to use SMOTE between two pipeline so we would give up using oversampling to deal with the imbalance data.\n",
    "\n",
    "However, in the model, we could set the weight of different class different to deal with the imbalance data. Here we do so."
   ]
  },
  {
   "cell_type": "markdown",
   "metadata": {},
   "source": [
    "## Model Training\n",
    "\n",
    "- Since it is a classification problem with imbalance data, it is easy for us to think about using logistic regression and tree model to deal with it. Thus, we choose to use logistic regression and xgboost.\n",
    "\n",
    "- Note that logistic regression with L1 penalty could have the function of feature selection\n",
    "\n",
    "- Note that xgboost is a kind of Gradient Boosting Tree\n",
    "\n",
    "\n"
   ]
  },
  {
   "cell_type": "markdown",
   "metadata": {},
   "source": [
    "We frist just using the naive logistic regression and naive xbg"
   ]
  },
  {
   "cell_type": "code",
   "execution_count": 20,
   "metadata": {},
   "outputs": [],
   "source": [
    "xgboost = xgb.XGBClassifier()\n",
    "logistic = linear_model.LogisticRegression()"
   ]
  },
  {
   "cell_type": "code",
   "execution_count": 21,
   "metadata": {},
   "outputs": [
    {
     "name": "stdout",
     "output_type": "stream",
     "text": [
      "Logistic: \n",
      "\n",
      "              precision    recall  f1-score   support\n",
      "\n",
      "           0       0.92      0.96      0.94       743\n",
      "           1       0.32      0.18      0.23        73\n",
      "\n",
      "    accuracy                           0.89       816\n",
      "   macro avg       0.62      0.57      0.59       816\n",
      "weighted avg       0.87      0.89      0.88       816\n",
      "\n"
     ]
    }
   ],
   "source": [
    "pipe = Pipeline(steps=[('MissingDataDeler', MissingDataDeler(0.1)), ('MissingFill', MissingDataFillerOne('uniform')), \n",
    "                      ('logistic', logistic)])\n",
    "pipe2 = Pipeline(steps=[('MissingDataDeler', MissingDataDeler(0.1)), ('MissingFill', MissingDataFillerOne('uniform')), \n",
    "                      ('xgb', xgboost)])\n",
    "\n",
    "pipe.fit(X_train, y_train)\n",
    "y_predict = pipe.predict(X_test)\n",
    "print('Logistic: \\n')\n",
    "print(classification_report(y_test, y_predict))"
   ]
  },
  {
   "cell_type": "code",
   "execution_count": 22,
   "metadata": {},
   "outputs": [
    {
     "name": "stdout",
     "output_type": "stream",
     "text": [
      "XGB: \n",
      "\n",
      "              precision    recall  f1-score   support\n",
      "\n",
      "           0       0.95      0.99      0.97       743\n",
      "           1       0.78      0.44      0.56        73\n",
      "\n",
      "    accuracy                           0.94       816\n",
      "   macro avg       0.86      0.71      0.76       816\n",
      "weighted avg       0.93      0.94      0.93       816\n",
      "\n"
     ]
    }
   ],
   "source": [
    "pipe2.fit(X_train, y_train)\n",
    "y_predict = pipe2.predict(X_test)\n",
    "print('XGB: \\n')\n",
    "print(classification_report(y_test, y_predict))"
   ]
  },
  {
   "cell_type": "markdown",
   "metadata": {},
   "source": [
    "## Imbalanced Data\n",
    "\n",
    "We use the parameter 'class_weight' to give different weight to different class of sample to deal with the imbalanced data"
   ]
  },
  {
   "cell_type": "code",
   "execution_count": 23,
   "metadata": {},
   "outputs": [
    {
     "data": {
      "text/plain": [
       "8.673590504451038"
      ]
     },
     "execution_count": 23,
     "metadata": {},
     "output_type": "execute_result"
    }
   ],
   "source": [
    "# Get the wight ratio, i.e. the ratio of imbalance\n",
    "weight_ratio = float(len(y_train[y_train == 0]))/float(len(y_train[y_train == \n",
    "1]))\n",
    "weight_ratio"
   ]
  },
  {
   "cell_type": "code",
   "execution_count": 24,
   "metadata": {},
   "outputs": [],
   "source": [
    "# the model\n",
    "xgboost = xgb.XGBClassifier(scale_pos_weight=weight_ratio)\n",
    "logistic = linear_model.LogisticRegression(class_weight={1:weight_ratio, 0:1}, penalty='l1') \n",
    "\n",
    "pipe = Pipeline(steps=[('MissingDataDeler', MissingDataDeler(0.1)), ('MissingFill', MissingDataFillerOne('uniform')), \n",
    "                      ('logistic', logistic)])\n",
    "pipe2 = Pipeline(steps=[('MissingDataDeler', MissingDataDeler(0.1)), ('MissingFill', MissingDataFillerOne('uniform')), \n",
    "                      ('xgb', xgboost)])"
   ]
  },
  {
   "cell_type": "code",
   "execution_count": 25,
   "metadata": {},
   "outputs": [
    {
     "name": "stdout",
     "output_type": "stream",
     "text": [
      "Logistic: \n",
      "\n",
      "              precision    recall  f1-score   support\n",
      "\n",
      "           0       0.97      0.81      0.88       743\n",
      "           1       0.27      0.71      0.40        73\n",
      "\n",
      "    accuracy                           0.81       816\n",
      "   macro avg       0.62      0.76      0.64       816\n",
      "weighted avg       0.90      0.81      0.84       816\n",
      "\n"
     ]
    }
   ],
   "source": [
    "# predict\n",
    "pipe.fit(X_train, y_train)\n",
    "y_predict = pipe.predict(X_test)\n",
    "print('Logistic: \\n')\n",
    "print(classification_report(y_test, y_predict))"
   ]
  },
  {
   "cell_type": "code",
   "execution_count": 26,
   "metadata": {},
   "outputs": [
    {
     "name": "stdout",
     "output_type": "stream",
     "text": [
      "XGB: \n",
      "\n",
      "              precision    recall  f1-score   support\n",
      "\n",
      "           0       0.98      0.91      0.94       743\n",
      "           1       0.45      0.77      0.57        73\n",
      "\n",
      "    accuracy                           0.90       816\n",
      "   macro avg       0.71      0.84      0.75       816\n",
      "weighted avg       0.93      0.90      0.91       816\n",
      "\n"
     ]
    }
   ],
   "source": [
    "pipe2.fit(X_train, y_train)\n",
    "y_predict = pipe2.predict(X_test)\n",
    "print('XGB: \\n')\n",
    "print(classification_report(y_test, y_predict))"
   ]
  },
  {
   "cell_type": "markdown",
   "metadata": {},
   "source": [
    "##  Different importance of each type of misclassification\n",
    "\n",
    "- In logistic regression, we can still use the changing of weight to change the threshold and get the result\n",
    "- In XBG, we try to define our log cost function and the math formula of gaining the grad and hass will not be shown here and you can refer to https://medium.com/datadriveninvestor/understanding-the-log-loss-function-of-xgboost-8842e99d975d, In this case, we multiple a beta as the importance in front of the term \"y*ln(y)\""
   ]
  },
  {
   "cell_type": "code",
   "execution_count": 27,
   "metadata": {},
   "outputs": [],
   "source": [
    "# xgb obj\n",
    "def customObj1(predict, real):\n",
    "    p = real\n",
    "    y = predict\n",
    "    beta = 5\n",
    "    #grad = p * (beta + y - beta*y) - y\n",
    "    grad = p * (beta*y + 1 - y) - beta * y\n",
    "    #hess = p * (1 - p) * (beta + y - beta*y)\n",
    "    hess =  p * (1 - p) * (beta*y + 1 - y)\n",
    "    return grad, hess\n",
    "\n",
    "xgboost = xgb.XGBClassifier(scale_pos_weight=weight_ratio, objective=customObj1)\n",
    "logistic = linear_model.LogisticRegression(class_weight={1:weight_ratio*5, 0:1}, penalty='l1')\n",
    "\n",
    "pipe = Pipeline(steps=[('MissingDataDeler', MissingDataDeler(0.1)), ('MissingFill', MissingDataFillerOne('uniform')), \n",
    "                      ('logistic', logistic)])\n",
    "pipe2 = Pipeline(steps=[('MissingDataDeler', MissingDataDeler(0.1)), ('MissingFill', MissingDataFillerOne('uniform')), \n",
    "                      ('xgb', xgboost)])"
   ]
  },
  {
   "cell_type": "code",
   "execution_count": 28,
   "metadata": {},
   "outputs": [
    {
     "name": "stdout",
     "output_type": "stream",
     "text": [
      "Logistic: \n",
      "\n",
      "              precision    recall  f1-score   support\n",
      "\n",
      "           0       0.98      0.31      0.47       743\n",
      "           1       0.12      0.95      0.21        73\n",
      "\n",
      "    accuracy                           0.37       816\n",
      "   macro avg       0.55      0.63      0.34       816\n",
      "weighted avg       0.91      0.37      0.45       816\n",
      "\n"
     ]
    }
   ],
   "source": [
    "# predict\n",
    "pipe.fit(X_train, y_train)\n",
    "y_predict = pipe.predict(X_test)\n",
    "print('Logistic: \\n')\n",
    "print(classification_report(y_test, y_predict))"
   ]
  },
  {
   "cell_type": "code",
   "execution_count": 29,
   "metadata": {},
   "outputs": [
    {
     "name": "stdout",
     "output_type": "stream",
     "text": [
      "XGB: \n",
      "\n",
      "              precision    recall  f1-score   support\n",
      "\n",
      "           0       0.97      0.94      0.95       743\n",
      "           1       0.50      0.66      0.57        73\n",
      "\n",
      "    accuracy                           0.91       816\n",
      "   macro avg       0.73      0.80      0.76       816\n",
      "weighted avg       0.92      0.91      0.92       816\n",
      "\n"
     ]
    }
   ],
   "source": [
    "pipe2.fit(X_train, y_train)\n",
    "y_predict = pipe2.predict(X_test)\n",
    "print('XGB: \\n')\n",
    "print(classification_report(y_test, y_predict))"
   ]
  },
  {
   "cell_type": "markdown",
   "metadata": {},
   "source": [
    "## Fine Tune\n",
    "Here we fine tune the model and add standaralization"
   ]
  },
  {
   "cell_type": "code",
   "execution_count": 30,
   "metadata": {},
   "outputs": [],
   "source": [
    "# xgb weight\n",
    "weight_ratio = float(len(y_train[y_train == 0]))/float(len(y_train[y_train == \n",
    "1]))\n",
    "#w_array = np.array([1.0]*y_train.shape[0])\n",
    "#w_array[y_train==1] = weight_ratio *5\n",
    "#w_array[y_train==0] = 1\n",
    "\n",
    "# xgb obj\n",
    "def customObj1(predict, real):\n",
    "    p = real\n",
    "    y = predict\n",
    "    beta = 450\n",
    "    #grad = p * (beta + y - beta*y) - y\n",
    "    grad = p * (beta*y + 1 - y) - beta * y\n",
    "    #hess = p * (1 - p) * (beta + y - beta*y)\n",
    "    hess =  p * (1 - p) * (beta*y + 1 - y)\n",
    "    return grad, hess"
   ]
  },
  {
   "cell_type": "code",
   "execution_count": 31,
   "metadata": {},
   "outputs": [],
   "source": [
    "# fit the model\n",
    "xgboost = xgb.XGBClassifier(max_depth=6,n_estimators=300,learning_rate=0.05,  scale_pos_weight=weight_ratio*5, \n",
    "                            objective=customObj1, max_delta_step=1)\n",
    "logistic = linear_model.LogisticRegression(class_weight={1:5*weight_ratio, 0:1}, penalty='l1')"
   ]
  },
  {
   "cell_type": "code",
   "execution_count": 32,
   "metadata": {},
   "outputs": [],
   "source": [
    "pipe = Pipeline(steps=[('MissingDataDeler', MissingDataDeler(0.1)), ('MissingFill', MissingDataFillerOne('uniform')),\n",
    "                        ('scaler', std_scaler), ('logistic', logistic)])\n",
    "pipe2 = Pipeline(steps=[('MissingDataDeler', MissingDataDeler(0.06)), ('MissingFill', MissingDataFillerOne('uniform')),\n",
    "                       ('scaler', std_scaler), ('xgb', xgboost)])"
   ]
  },
  {
   "cell_type": "code",
   "execution_count": 33,
   "metadata": {},
   "outputs": [
    {
     "name": "stdout",
     "output_type": "stream",
     "text": [
      "Logistic \n",
      "\n",
      "              precision    recall  f1-score   support\n",
      "\n",
      "           0       1.00      0.27      0.43       743\n",
      "           1       0.12      0.99      0.21        73\n",
      "\n",
      "    accuracy                           0.34       816\n",
      "   macro avg       0.56      0.63      0.32       816\n",
      "weighted avg       0.92      0.34      0.41       816\n",
      "\n"
     ]
    }
   ],
   "source": [
    "pipe.fit(X_train, y_train)\n",
    "y_predict = pipe.predict(X_test)\n",
    "print('Logistic \\n')\n",
    "print(classification_report(y_test, y_predict))"
   ]
  },
  {
   "cell_type": "code",
   "execution_count": 34,
   "metadata": {},
   "outputs": [
    {
     "name": "stdout",
     "output_type": "stream",
     "text": [
      "XGB \n",
      "\n",
      "              precision    recall  f1-score   support\n",
      "\n",
      "           0       0.98      0.88      0.93       743\n",
      "           1       0.40      0.78      0.53        73\n",
      "\n",
      "    accuracy                           0.87       816\n",
      "   macro avg       0.69      0.83      0.73       816\n",
      "weighted avg       0.92      0.87      0.89       816\n",
      "\n"
     ]
    }
   ],
   "source": [
    "pipe2.fit(X_train, y_train)\n",
    "y_predict = pipe2.predict(X_test)  \n",
    "print('XGB \\n')\n",
    "print(classification_report(y_test, y_predict))"
   ]
  },
  {
   "cell_type": "markdown",
   "metadata": {},
   "source": [
    "### Try hard to deal with XGB\n",
    "we custom define a eval metric for xgboost\n",
    "\n",
    "But very upset, the result is not imporved"
   ]
  },
  {
   "cell_type": "code",
   "execution_count": 35,
   "metadata": {},
   "outputs": [],
   "source": [
    "\n",
    "from sklearn.metrics import confusion_matrix\n",
    "def customedscore(preds, real):\n",
    "    #pred = [int(i>=0.5) for i in preds]\n",
    "    confusion_matrixs = confusion_matrix(real, pred)\n",
    "    recall =float(confusion_matrixs[0][0]) / float(confusion_matrixs[0][1]+confusion_matrixs[0][0])\n",
    "    precision = float(confusion_matrixs[0][0]) / float(confusion_matrixs[1][0]+confusion_matrixs[0][0])\n",
    "    beta = 10\n",
    "    F = (1+beta*beta) * (precision* recall) / ((beta*beta)*precision + recall)\n",
    "    #F = 5*precision* recall/(1*precision+3*recall)*100\n",
    "    return 'FSCORE',float(F)"
   ]
  },
  {
   "cell_type": "code",
   "execution_count": 36,
   "metadata": {},
   "outputs": [],
   "source": [
    "xgboost = xgb.XGBClassifier(max_depth=6,n_estimators=300,learning_rate=0.05,  scale_pos_weight=weight_ratio*5, \n",
    "                            objective=customObj1, max_delta_step=1, feval = customedscore)\n",
    "pipe2 = Pipeline(steps=[('MissingDataDeler', MissingDataDeler(0.06)), ('MissingFill', MissingDataFillerOne('uniform')),\n",
    "                       ('scaler', std_scaler), ('xgb', xgboost)])"
   ]
  },
  {
   "cell_type": "code",
   "execution_count": 37,
   "metadata": {},
   "outputs": [
    {
     "name": "stdout",
     "output_type": "stream",
     "text": [
      "XGB \n",
      "\n",
      "              precision    recall  f1-score   support\n",
      "\n",
      "           0       0.98      0.87      0.92       743\n",
      "           1       0.38      0.79      0.52        73\n",
      "\n",
      "    accuracy                           0.87       816\n",
      "   macro avg       0.68      0.83      0.72       816\n",
      "weighted avg       0.92      0.87      0.89       816\n",
      "\n"
     ]
    }
   ],
   "source": [
    "pipe2.fit(X_train, y_train)\n",
    "y_predict = pipe2.predict(X_test)  \n",
    "print('XGB \\n')\n",
    "print(classification_report(y_test, y_predict))"
   ]
  },
  {
   "cell_type": "markdown",
   "metadata": {},
   "source": [
    "## Comment\n",
    "- We can see that the logistic moedl have a high recall (98%) of bankrupt companies and we want this feature in predicting though the accuracy rate is only around 35%\n",
    "\n",
    "- The xgb model have a recall on bankrupt about 80% and accuracy about 87%. Maybe we can try to fine tune again to enhance the recall performance of xgb since I could have a good balance between accuracy and recall\n",
    "\n",
    "- Above all, we choose the logistic model as the final model"
   ]
  },
  {
   "cell_type": "markdown",
   "metadata": {},
   "source": [
    "## The final result\n",
    "Here present the final function"
   ]
  },
  {
   "cell_type": "code",
   "execution_count": 38,
   "metadata": {},
   "outputs": [
    {
     "name": "stdout",
     "output_type": "stream",
     "text": [
      "Test file:  ./data/midterm_project\\test.csv\n"
     ]
    }
   ],
   "source": [
    "TEST_PATH = \"./data\"\n",
    "\n",
    "import pandas as pd\n",
    "import os\n",
    "\n",
    "testFileName = os.path.join(TEST_PATH, \"test.csv\")\n",
    "\n",
    "def MyModel(fileName=None):\n",
    "    print(\"Test file: \", fileName)\n",
    "    \n",
    "    # It should create an array of predictions; we initialize it to the empty array for convenience\n",
    "    predictions = []\n",
    "    data_test = pd.read_csv(testFileName)\n",
    "    data_test = CleanOne(data_test)\n",
    "    X_test = data_test.drop(['Id'], axis=1)\n",
    "    \n",
    "    # YOUR CODE GOES HERE\n",
    "    DATA_PATH = \"./data\"\n",
    "    data = pd.read_csv( os.path.join(DATA_PATH, \"bankruptcy_data.csv\") )\n",
    "    data = CleanOne(data)\n",
    "    X_train = data.drop(['Id','Bankrupt'], axis=1)\n",
    "    y_train = data['Bankrupt'].copy()\n",
    "    logistic = linear_model.LogisticRegression(class_weight={1:5*weight_ratio, 0:1}, penalty='l1')\n",
    "    pipe = Pipeline(steps=[ ('MissingDataDeler', MissingDataDeler(0.1)), ('MissingFill', MissingDataFillerOne('uniform')),\n",
    "                        ('scaler', std_scaler), ('logistic', logistic)])\n",
    "    pipe.fit(X_train, y_train)\n",
    "    predictions = pipe.predict(X_test)\n",
    "    return predictions\n",
    "\n",
    "predicts = MyModel(fileName=testFileName)"
   ]
  },
  {
   "cell_type": "code",
   "execution_count": 39,
   "metadata": {},
   "outputs": [
    {
     "name": "stdout",
     "output_type": "stream",
     "text": [
      "./data/midterm_project\\test.csv\n"
     ]
    }
   ],
   "source": [
    "testFileName = os.path.join(TEST_PATH, \"test.csv\")\n",
    "print(testFileName)\n",
    "df = pd.read_csv(testFileName)"
   ]
  },
  {
   "cell_type": "code",
   "execution_count": 40,
   "metadata": {},
   "outputs": [
    {
     "name": "stdout",
     "output_type": "stream",
     "text": [
      "Done\n"
     ]
    }
   ],
   "source": [
    "print('Done')"
   ]
  },
  {
   "cell_type": "code",
   "execution_count": null,
   "metadata": {},
   "outputs": [],
   "source": []
  }
 ],
 "metadata": {
  "kernelspec": {
   "display_name": "Python 3",
   "language": "python",
   "name": "python3"
  },
  "language_info": {
   "codemirror_mode": {
    "name": "ipython",
    "version": 3
   },
   "file_extension": ".py",
   "mimetype": "text/x-python",
   "name": "python",
   "nbconvert_exporter": "python",
   "pygments_lexer": "ipython3",
   "version": "3.7.3"
  },
  "toc": {
   "base_numbering": 1,
   "nav_menu": {},
   "number_sections": true,
   "sideBar": true,
   "skip_h1_title": false,
   "title_cell": "Table of Contents",
   "title_sidebar": "Contents",
   "toc_cell": false,
   "toc_position": {},
   "toc_section_display": true,
   "toc_window_display": false
  }
 },
 "nbformat": 4,
 "nbformat_minor": 2
}